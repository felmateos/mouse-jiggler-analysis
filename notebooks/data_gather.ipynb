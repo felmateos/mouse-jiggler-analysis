{
 "cells": [
  {
   "cell_type": "code",
   "execution_count": 3,
   "id": "1ba5cf0c",
   "metadata": {},
   "outputs": [],
   "source": [
    "import time\n",
    "import csv\n",
    "from datetime import datetime\n",
    "import pyautogui"
   ]
  },
  {
   "cell_type": "code",
   "execution_count": 11,
   "id": "1ae61c4e",
   "metadata": {},
   "outputs": [],
   "source": [
    "INTERVAL = .01\n",
    "DURATION = 60\n",
    "OUTPUT_PATH = '../data/exp/random.csv'"
   ]
  },
  {
   "cell_type": "code",
   "execution_count": 9,
   "id": "7a70e1e4",
   "metadata": {},
   "outputs": [],
   "source": [
    "def track_movement(interval, duration, output_path):\n",
    "    with open(output_path, mode='w', newline='') as f:\n",
    "        writer = csv.writer(f)\n",
    "        writer.writerow(['timestamp', 'x', 'y'])\n",
    "\n",
    "        start = time.time()\n",
    "        while (time.time() - start) < duration:\n",
    "            x, y = pyautogui.position()\n",
    "            timestamp = datetime.now().strftime('%Y-%m-%d %H:%M:%S.%f')\n",
    "            writer.writerow([timestamp, x, y])\n",
    "            time.sleep(interval)\n",
    "\n",
    "    print(f'mouse positions saved on {output_path}')"
   ]
  },
  {
   "cell_type": "code",
   "execution_count": 12,
   "id": "0acf1d4a",
   "metadata": {},
   "outputs": [
    {
     "name": "stdout",
     "output_type": "stream",
     "text": [
      "mouse positions saved on ../data/exp/random.csv\n"
     ]
    }
   ],
   "source": [
    "track_movement(INTERVAL, DURATION, OUTPUT_PATH)"
   ]
  }
 ],
 "metadata": {
  "kernelspec": {
   "display_name": "venv",
   "language": "python",
   "name": "python3"
  },
  "language_info": {
   "codemirror_mode": {
    "name": "ipython",
    "version": 3
   },
   "file_extension": ".py",
   "mimetype": "text/x-python",
   "name": "python",
   "nbconvert_exporter": "python",
   "pygments_lexer": "ipython3",
   "version": "3.12.3"
  }
 },
 "nbformat": 4,
 "nbformat_minor": 5
}
